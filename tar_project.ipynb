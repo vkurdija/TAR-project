{
 "cells": [
  {
   "cell_type": "code",
   "execution_count": 1,
   "id": "ccf18d1d",
   "metadata": {},
   "outputs": [],
   "source": [
    "import torch\n",
    "import spacy\n",
    "import gensim\n",
    "import numpy as np\n",
    "import pandas as pd\n",
    "from sklearn import model_selection\n",
    "from mlxtend.evaluate import permutation_test\n",
    "from sklearn.linear_model import LogisticRegression\n",
    "from sklearn.metrics import make_scorer, precision_score, recall_score, f1_score, accuracy_score\n",
    "\n",
    "PAD = 100\n",
    "DIM = 300\n",
    "\n",
    "TEST_PATH = \"dreaddit/dreaddit-test.csv\"\n",
    "TRAIN_PATH = \"dreaddit/dreaddit-train.csv\"\n",
    "W2V_PATH = \"GoogleNews-vectors-negative300.bin\""
   ]
  },
  {
   "cell_type": "code",
   "execution_count": 2,
   "id": "6ec4023b",
   "metadata": {},
   "outputs": [],
   "source": [
    "nlp = spacy.load(\"en_core_web_lg\")\n",
    "w2v = gensim.models.KeyedVectors.load_word2vec_format(W2V_PATH, binary=True)\n",
    "\n",
    "def vectorize(token):\n",
    "    if token.text in w2v:\n",
    "        return w2v[token.text]\n",
    "    return np.random.rand(DIM)"
   ]
  },
  {
   "cell_type": "code",
   "execution_count": 19,
   "id": "35e8ef3a",
   "metadata": {},
   "outputs": [],
   "source": [
    "def process(PATH, features_to_test=[], include_subreddit=False, include_position=False, \n",
    "            include_length=False):\n",
    "    df = pd.read_csv(PATH)\n",
    "    \n",
    "    if include_subreddit == 'discrete':\n",
    "        one_hot_subreddit = pd.get_dummies(df['subreddit'])\n",
    "        df = df.merge(one_hot_subreddit, left_index=True, right_index=True)\n",
    "        features_to_test += list(one_hot_subreddit)\n",
    "        \n",
    "    if include_subreddit == 'meaning':\n",
    "        df['text'] = df['subreddit'] + ' ' + df['text']\n",
    "    \n",
    "    if include_position:\n",
    "        df['sentence_range'] = df['sentence_range'].apply(lambda sent_range:\n",
    "                                                          int(sent_range.split()[0][1:-1]))\n",
    "        features_to_test.append('sentence_range')\n",
    "        \n",
    "    if include_length:\n",
    "        df['text_length'] = df['text'].apply(lambda text: len(text))\n",
    "        features_to_test.append('text_length')\n",
    "\n",
    "    df['tokenized'] = df['text'].apply(nlp)\n",
    "\n",
    "    vectorizer = lambda sent: np.mean(np.array([vectorize(token) for token in sent]), 0)\n",
    "    df['vectorized'] = df['tokenized'].apply(vectorizer)\n",
    "        \n",
    "    X = np.empty((0, DIM))\n",
    "    for x in df['vectorized']:\n",
    "        X = np.concatenate((X, np.expand_dims(x, axis=0)))\n",
    "    y = df['label'].to_numpy()\n",
    "    \n",
    "    base_features = ['lex_liwc_Clout', 'lex_liwc_i', 'lex_liwc_Tone']\n",
    "    features = base_features + features_to_test\n",
    "    feature_cols = np.empty((len(df), 0))\n",
    "    for feature in features:\n",
    "        feature_col = np.transpose(np.expand_dims(df[feature].to_numpy(), axis=0))\n",
    "        feature_cols = np.concatenate((feature_cols, feature_col), axis=1)\n",
    "    X = np.concatenate((X, feature_cols), axis=1)\n",
    "    \n",
    "    return X, y"
   ]
  },
  {
   "cell_type": "code",
   "execution_count": 20,
   "id": "ac45ef8f",
   "metadata": {},
   "outputs": [],
   "source": [
    "def evaluate(clf, X, y):\n",
    "    scoring = {'pre' : make_scorer(precision_score), \n",
    "               'rec' : make_scorer(recall_score), \n",
    "               'f1' : make_scorer(f1_score)}\n",
    "\n",
    "    kfold = model_selection.KFold(n_splits=10, shuffle=True)\n",
    "\n",
    "    results = model_selection.cross_validate(estimator=clf, X=X, y=y, cv=kfold, scoring=scoring)\n",
    "\n",
    "    print('{} Pre.: {}, Rec.: {}, F1: {}'.format(clf,\n",
    "                                              np.mean(results['test_pre']), \n",
    "                                              np.mean(results['test_rec']), \n",
    "                                              np.mean(results['test_f1'])))\n",
    "\n",
    "    return np.mean(results['test_f1'])"
   ]
  },
  {
   "cell_type": "code",
   "execution_count": 21,
   "id": "0cdd2ef5",
   "metadata": {},
   "outputs": [],
   "source": [
    "def grid(X, y):\n",
    "    best = (0, 0)\n",
    "    for c in [0.0001, 0.001, 0.01, 0.1, 1, 2, 4, 8, 16, 32, 64]:\n",
    "        best = max(best, (evaluate(LogisticRegression(C=c), X, y), c))\n",
    "    return best"
   ]
  },
  {
   "cell_type": "code",
   "execution_count": 23,
   "id": "b1bbe5e3",
   "metadata": {},
   "outputs": [],
   "source": [
    "def train_and_run(features_to_test=[], include_subreddit=False, include_position=False, include_length=False):\n",
    "    \n",
    "    X_train, y_train = process(TRAIN_PATH, features_to_test.copy(), include_subreddit, include_position, \n",
    "                               include_length)\n",
    "    clf = LogisticRegression(C=0.01).fit(X_train, y_train)\n",
    "    X_test, y_test = process(TEST_PATH, features_to_test.copy(), include_subreddit, include_position, \n",
    "                             include_length)\n",
    "    \n",
    "    if len(features_to_test) > 0:\n",
    "        print(\"Additional features:\", features_to_test)\n",
    "    if include_subreddit:\n",
    "        print(\"Include subreddit:\", include_subreddit)\n",
    "    if include_position:\n",
    "        print(\"Include position:\", include_position)\n",
    "    if include_length:\n",
    "        print(\"Include length:\", include_length)\n",
    "          \n",
    "    y_pred = clf.predict(X_test)\n",
    "    print('F1:', f1_score(y_test, y_pred))\n",
    "    \n",
    "    return y_pred"
   ]
  },
  {
   "cell_type": "code",
   "execution_count": 24,
   "id": "27696c0e",
   "metadata": {},
   "outputs": [
    {
     "name": "stdout",
     "output_type": "stream",
     "text": [
      "F1: 0.770012706480305\n"
     ]
    },
    {
     "name": "stderr",
     "output_type": "stream",
     "text": [
      "/home/vedran/.local/lib/python3.10/site-packages/sklearn/linear_model/_logistic.py:814: ConvergenceWarning: lbfgs failed to converge (status=1):\n",
      "STOP: TOTAL NO. of ITERATIONS REACHED LIMIT.\n",
      "\n",
      "Increase the number of iterations (max_iter) or scale the data as shown in:\n",
      "    https://scikit-learn.org/stable/modules/preprocessing.html\n",
      "Please also refer to the documentation for alternative solver options:\n",
      "    https://scikit-learn.org/stable/modules/linear_model.html#logistic-regression\n",
      "  n_iter_i = _check_optimize_result(\n"
     ]
    },
    {
     "name": "stdout",
     "output_type": "stream",
     "text": [
      "Include subreddit: discrete\n",
      "F1: 0.7694267515923566\n",
      "Include subreddit: meaning\n",
      "F1: 0.7668789808917197\n",
      "Discrete subreddit addition p-value: 0.9470529470529471\n",
      "Subreddit meaning addition p-value: 0.955044955044955\n"
     ]
    }
   ],
   "source": [
    "baseline_pred = train_and_run()\n",
    "discrete_subreddit_pred = train_and_run(include_subreddit='discrete')\n",
    "meaning_subreddit_pred = train_and_run(include_subreddit='meaning')\n",
    "\n",
    "p_value_discrete = permutation_test(baseline_pred, discrete_subreddit_pred, method='approximate')\n",
    "p_value_meaning = permutation_test(baseline_pred, meaning_subreddit_pred, method='approximate')\n",
    "\n",
    "print(\"Discrete subreddit addition p-value:\", p_value_discrete)\n",
    "print(\"Subreddit meaning addition p-value:\", p_value_meaning)"
   ]
  },
  {
   "cell_type": "code",
   "execution_count": 25,
   "id": "cbb17cc8",
   "metadata": {},
   "outputs": [
    {
     "name": "stdout",
     "output_type": "stream",
     "text": [
      "Additional features: ['sentiment']\n",
      "F1: 0.7694267515923566\n",
      "Sentiment addition p-value: 0.961038961038961\n"
     ]
    }
   ],
   "source": [
    "sentiment_pred = train_and_run(['sentiment'])\n",
    "p_value_sentiment = permutation_test(baseline_pred, sentiment_pred, method='approximate')\n",
    "print(\"Sentiment addition p-value:\", p_value_sentiment)"
   ]
  },
  {
   "cell_type": "code",
   "execution_count": 26,
   "id": "617128f4",
   "metadata": {},
   "outputs": [
    {
     "name": "stdout",
     "output_type": "stream",
     "text": [
      "Include position: True\n",
      "F1: 0.770012706480305\n",
      "Position addition p-value: 1.0\n"
     ]
    }
   ],
   "source": [
    "position_pred = train_and_run(include_position=True)\n",
    "p_value_position = permutation_test(baseline_pred, position_pred, method='approximate')\n",
    "print(\"Position addition p-value:\", p_value_position)"
   ]
  },
  {
   "cell_type": "code",
   "execution_count": 27,
   "id": "4a80a0c1",
   "metadata": {},
   "outputs": [
    {
     "name": "stdout",
     "output_type": "stream",
     "text": [
      "Include length: True\n",
      "F1: 0.7668789808917197\n",
      "Length addition p-value: 0.9590409590409591\n"
     ]
    }
   ],
   "source": [
    "length_pred = train_and_run(include_length=True)\n",
    "p_value_length = permutation_test(baseline_pred, length_pred, method='approximate')\n",
    "print(\"Length addition p-value:\", p_value_length)"
   ]
  },
  {
   "cell_type": "code",
   "execution_count": 28,
   "id": "77d154d5",
   "metadata": {},
   "outputs": [
    {
     "name": "stdout",
     "output_type": "stream",
     "text": [
      "Additional features: ['sentiment']\n",
      "Include subreddit: True\n",
      "Include position: True\n",
      "Include length: True\n",
      "F1: 0.7719745222929936\n",
      "Combination addition p-value: 0.9590409590409591\n"
     ]
    }
   ],
   "source": [
    "combination_pred = train_and_run(['sentiment'], include_subreddit=True, include_position=True, \n",
    "                                 include_length=True)\n",
    "p_value_combination = permutation_test(baseline_pred, combination_pred, method='approximate')\n",
    "print(\"Combination addition p-value:\", p_value_length)"
   ]
  }
 ],
 "metadata": {
  "kernelspec": {
   "display_name": "Python 3 (ipykernel)",
   "language": "python",
   "name": "python3"
  },
  "language_info": {
   "codemirror_mode": {
    "name": "ipython",
    "version": 3
   },
   "file_extension": ".py",
   "mimetype": "text/x-python",
   "name": "python",
   "nbconvert_exporter": "python",
   "pygments_lexer": "ipython3",
   "version": "3.10.4"
  }
 },
 "nbformat": 4,
 "nbformat_minor": 5
}
